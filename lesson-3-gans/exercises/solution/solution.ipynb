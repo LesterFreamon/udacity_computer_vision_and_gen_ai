{
 "cells": [
  {
   "cell_type": "code",
   "execution_count": 2,
   "metadata": {},
   "outputs": [],
   "source": [
    "import os, time\n",
    "import matplotlib.pyplot as plt\n",
    "import itertools\n",
    "import pickle\n",
    "import imageio\n",
    "import torch\n",
    "import torch.nn as nn\n",
    "import torch.nn.functional as F\n",
    "import torch.optim as optim\n",
    "from torchvision import datasets, transforms\n",
    "from torch.autograd import Variable"
   ]
  },
  {
   "cell_type": "code",
   "execution_count": 3,
   "metadata": {},
   "outputs": [],
   "source": [
    "assert torch.cuda.is_available()"
   ]
  },
  {
   "cell_type": "code",
   "execution_count": 8,
   "metadata": {},
   "outputs": [],
   "source": [
    "class Generator(nn.Module):\n",
    "    \n",
    "    def __init__(self, d=128):\n",
    "        \n",
    "        super(Generator, self).__init__()\n",
    "\n",
    "        self.model = nn.Sequential(\n",
    "            self._get_transpconv_block(100, d*8, 4, 1, 0),\n",
    "            self._get_transpconv_block(d*8, d*4, 4, 2, 1),\n",
    "            self._get_transpconv_block(d*4, d*2, 4, 2, 1),\n",
    "            self._get_transpconv_block(d*2, d, 4, 2, 1),\n",
    "            self._get_transpconv_block(d, 1, 4, 2, 1, nn.Tanh),\n",
    "        )\n",
    "    \n",
    "    def _get_transpconv_block(self, in_channels, out_channels, kernel_size, stride, padding, activation=nn.ReLU):\n",
    "        return nn.Sequential(\n",
    "            nn.ConvTranspose2d(\n",
    "                in_channels, \n",
    "                out_channels, \n",
    "                kernel_size=kernel_size, \n",
    "                stride=stride, \n",
    "                padding=padding\n",
    "        ),\n",
    "            nn.BatchNorm2d(out_channels),\n",
    "            activation()\n",
    "        )\n",
    "\n",
    "    # forward method\n",
    "    def forward(self, latents):\n",
    "        return self.model(latents)"
   ]
  },
  {
   "cell_type": "code",
   "execution_count": 9,
   "metadata": {},
   "outputs": [],
   "source": [
    "G = Generator()"
   ]
  },
  {
   "cell_type": "code",
   "execution_count": 10,
   "metadata": {},
   "outputs": [
    {
     "data": {
      "text/plain": [
       "torch.Size([1, 1, 64, 64])"
      ]
     },
     "execution_count": 10,
     "metadata": {},
     "output_type": "execute_result"
    }
   ],
   "source": [
    "z = torch.randn((1, 100)).view(-1, 100, 1, 1)\n",
    "G(z).shape"
   ]
  },
  {
   "cell_type": "code",
   "execution_count": 11,
   "metadata": {},
   "outputs": [
    {
     "data": {
      "image/png": "[encoded data removed]",
      "text/plain": [
       "<Figure size 432x288 with 1 Axes>"
      ]
     },
     "metadata": {
      "needs_background": "light"
     },
     "output_type": "display_data"
    }
   ],
   "source": [
    "# Visualize the output tensor as a grayscale image\n",
    "plt.imshow(G(z).view(64, 64).data.numpy(), cmap='gray')\n",
    "_ = plt.axis('off')"
   ]
  },
  {
   "cell_type": "code",
   "execution_count": null,
   "metadata": {},
   "outputs": [],
   "source": [
    "class Discriminator(nn.Module):\n",
    "    # initializers\n",
    "    def __init__(self, d=128):\n",
    "\n",
    "        super(discriminator, self).__init__()\n",
    "\n",
    "        self.model = nn.Sequential(\n",
    "            self._get_conv_block(1, d, 4, 2, 1),\n",
    "            self._get_conv_block(d, d*2, 4, 2, 1),\n",
    "            self._get_conv_block(d*2, d*4, 4, 2, 1),\n",
    "            self._get_conv_block(d*4, d*8, 4, 2, 1),\n",
    "            self._get_conv_block(d*8, 1, 4, 1, 0, nn.Sigmoid),\n",
    "        )\n",
    "    \n",
    "    def _get_conv_block(self, in_channels, out_channels, kernel_size, stride, padding, activation=nn.LeakyReLU):\n",
    "\n",
    "        return nn.Sequential(\n",
    "            nn.Conv2d(\n",
    "                in_channels, \n",
    "                out_channels, \n",
    "                kernel_size=kernel_size, \n",
    "                stride=stride, \n",
    "                padding=padding\n",
    "        ),\n",
    "            nn.BatchNorm2d(out_channels),\n",
    "            nn.LeakyReLU(inplace=True)\n",
    "        )\n",
    "\n",
    "    # forward method\n",
    "    def forward(self, images):\n",
    "        return self.model(images)"
   ]
  },
  {
   "cell_type": "code",
   "execution_count": null,
   "metadata": {},
   "outputs": [],
   "source": [
    "D = Discriminator()"
   ]
  },
  {
   "cell_type": "code",
   "execution_count": null,
   "metadata": {},
   "outputs": [],
   "source": [
    "img = torch.randn((1, 1, 64, 64))\n",
    "D(img)"
   ]
  },
  {
   "cell_type": "code",
   "execution_count": null,
   "metadata": {},
   "outputs": [],
   "source": []
  }
 ],
 "metadata": {
  "kernelspec": {
   "display_name": "base",
   "language": "python",
   "name": "python3"
  },
  "language_info": {
   "codemirror_mode": {
    "name": "ipython",
    "version": 3
   },
   "file_extension": ".py",
   "mimetype": "text/x-python",
   "name": "python",
   "nbconvert_exporter": "python",
   "pygments_lexer": "ipython3",
   "version": "3.8.10"
  }
 },
 "nbformat": 4,
 "nbformat_minor": 2
}
